{
 "cells": [
  {
   "cell_type": "markdown",
   "id": "5e994568",
   "metadata": {},
   "source": [
    "##  Lab 1: Basic Python and Jupyter Notebook Setup\n",
    "#### (0 points)"
   ]
  },
  {
   "cell_type": "markdown",
   "id": "dec05ae6",
   "metadata": {},
   "source": [
    "### Objective\n",
    "Set up Python and Jupyter Notebook for machine learning tasks.\n",
    "\n",
    "### Instructions\n",
    "1. Install Python (version 3.x) from [python.org](https://www.python.org/).\n",
    "2. Install Jupyter Notebook using the command:  \n",
    "   ```sh\n",
    "   pip install notebook\n",
    "   ```\n",
    "3. Create a new Jupyter Notebook and practice basic Python commands like variables, loops, functions, and libraries.\n",
    "4. Install essential libraries like NumPy, Pandas, Matplotlib, and Scikit-learn using:\n",
    "   ```sh\n",
    "   pip install numpy pandas matplotlib scikit-learn torch torchvision\n",
    "   ```\n",
    "\n",
    "### Deliverables\n",
    "- Submit a notebook file containing basic Python operations and a short description of each step.\n"
   ]
  },
  {
   "cell_type": "code",
   "execution_count": 1,
   "id": "7c6c8b9b",
   "metadata": {},
   "outputs": [],
   "source": [
    "import torch\n",
    "import torch.nn as nn\n",
    "import torch.optim as optim\n",
    "from sklearn.model_selection import train_test_split\n",
    "from sklearn.metrics import r2_score\n",
    "import matplotlib.pyplot as plt\n",
    "import numpy as np\n",
    "from torch.utils.data import DataLoader"
   ]
  },
  {
   "cell_type": "code",
   "execution_count": null,
   "id": "0296ee35",
   "metadata": {},
   "outputs": [],
   "source": [
    "# Your implementation goes here\n"
   ]
  },
  {
   "cell_type": "markdown",
   "id": "d700fb9a",
   "metadata": {},
   "source": [
    "##  Lab 2: Implementing Ensemble Models (Random Forest, XGBoost)\n",
    "#### (33.33 points)"
   ]
  },
  {
   "cell_type": "markdown",
   "id": "d1382ae1",
   "metadata": {},
   "source": [
    "### Objective\n",
    "Implement and compare ensemble models like Random Forest and XGBoost.\n",
    "\n",
    "### Instructions\n",
    "1. Use the Scikit-learn library to load a dataset Breast Cancer dataset.\n",
    "2. Implement a Random Forest classifier using `RandomForestClassifier` from Scikit-learn. Evaluate its accuracy, precision, recall, f1 using cross-validation.\n",
    "3. Install XGBoost using:\n",
    "   ```sh\n",
    "   pip install xgboost\n",
    "   ```\n",
    "4. Implement an XGBoost classifier and compare its performance with Random Forest.\n"
   ]
  },
  {
   "cell_type": "code",
   "execution_count": null,
   "id": "c8d935ba",
   "metadata": {},
   "outputs": [],
   "source": [
    "### YOUR CODE HERE ###"
   ]
  },
  {
   "cell_type": "markdown",
   "id": "a417b3c7",
   "metadata": {},
   "source": [
    "## Lab 3: Building Neural Networks with PyTorch\n",
    "#### (33.33 points)"
   ]
  },
  {
   "cell_type": "code",
   "execution_count": 15,
   "id": "77df551e",
   "metadata": {},
   "outputs": [],
   "source": [
    "# Generate synthetic data for nonlinear regression\n",
    "np.random.seed(42)\n",
    "X_nonlinear = np.random.rand(100, 1) * 10  # Features\n",
    "y_nonlinear = np.sin(X_nonlinear) + 0.1 * np.random.randn(100, 1)  # Nonlinear relationship with noise\n",
    "\n",
    "# Train-test split\n",
    "X_train_nl, X_test_nl, y_train_nl, y_test_nl = train_test_split(X_nonlinear, y_nonlinear, test_size=0.2, random_state=42)\n",
    "\n",
    "# Convert to PyTorch tensors\n",
    "X_train_tensor_nl = torch.tensor(X_train_nl, dtype=torch.float32)\n",
    "y_train_tensor_nl = torch.tensor(y_train_nl, dtype=torch.float32)\n",
    "X_test_tensor_nl = torch.tensor(X_test_nl, dtype=torch.float32)\n",
    "y_test_tensor_nl = torch.tensor(y_test_nl, dtype=torch.float32)"
   ]
  },
  {
   "cell_type": "code",
   "execution_count": 16,
   "id": "bdb5be96",
   "metadata": {},
   "outputs": [
    {
     "data": {
      "image/png": "[encoded data removed]",
      "text/plain": [
       "<Figure size 640x480 with 1 Axes>"
      ]
     },
     "metadata": {},
     "output_type": "display_data"
    }
   ],
   "source": [
    "# Scatterplot of X and y\n",
    "plt.scatter(X_nonlinear, y_nonlinear, alpha=0.7, label=\"Data\")\n",
    "plt.xlabel(\"X\")\n",
    "plt.ylabel(\"y\")\n",
    "plt.title(\"Scatterplot of X and y\")\n",
    "plt.legend()\n",
    "plt.show()"
   ]
  },
  {
   "cell_type": "code",
   "execution_count": null,
   "id": "486a822c",
   "metadata": {},
   "outputs": [],
   "source": [
    "# Define the deep neural network model\n",
    "class DeepNNRegressionModel(nn.Module):\n",
    "    def __init__(self):\n",
    "        super(DeepNNRegressionModel, self).__init__()\n",
    "        ### YOUR CODE HERE ###\n",
    "\n",
    "    def forward(self, x):\n",
    "        ### YOUR CODE HERE ###\n",
    "\n",
    "model_dnn = DeepNNRegressionModel()\n",
    "criterion_dnn = #### YOUR CODE HERE ####\n",
    "learning_rate = #### YOUR CODE HERE ####\n",
    "optimizer_dnn = optim.Adam(model_dnn.parameters(), lr=learning_rate)"
   ]
  },
  {
   "cell_type": "markdown",
   "id": "da3742cf",
   "metadata": {},
   "source": [
    "Calculate the number of parameters of your network and interprete why you chose such a model with such a learning rate"
   ]
  },
  {
   "cell_type": "code",
   "execution_count": null,
   "id": "87adee83",
   "metadata": {},
   "outputs": [],
   "source": [
    "# Train the deep neural network regression model\n",
    "epochs = #### YOUR CODE HERE ####\n",
    "train_loss_history_dnn = []\n",
    "test_loss_history_dnn = []\n",
    "\n",
    "for epoch in range(epochs):\n",
    "    # Training phase\n",
    "    model_dnn.train()\n",
    "    optimizer_dnn.zero_grad()\n",
    "    y_pred_train_dnn = model_dnn(X_train_tensor_nl)\n",
    "    loss_dnn = criterion_dnn(y_pred_train_dnn, y_train_tensor_nl)\n",
    "    loss_dnn.backward()\n",
    "    optimizer_dnn.step()\n",
    "\n",
    "    # Evaluation phase\n",
    "    model_dnn.eval()\n",
    "    with torch.no_grad():\n",
    "        y_pred_test_dnn = model_dnn(X_test_tensor_nl)\n",
    "        test_loss_dnn = criterion_dnn(y_pred_test_dnn, y_test_tensor_nl).item()\n",
    "        train_loss_history_dnn.append(loss_dnn.item())\n",
    "        test_loss_history_dnn.append(test_loss_dnn)\n",
    "\n",
    "        # Calculate R² scores\n",
    "        train_r2_dnn = r2_score(y_train_tensor_nl.numpy(), y_pred_train_dnn.numpy())\n",
    "        test_r2_dnn = r2_score(y_test_tensor_nl.numpy(), y_pred_test_dnn.numpy())\n",
    "\n",
    "    print(f\"Epoch {epoch + 1}/{epochs}, Train Loss: {loss_dnn.item():.4f}, Test Loss: {test_loss_dnn:.4f}, Train R²: {train_r2_dnn:.4f}, Test R²: {test_r2_dnn:.4f}\")"
   ]
  },
  {
   "cell_type": "code",
   "execution_count": null,
   "id": "758208a9",
   "metadata": {},
   "outputs": [],
   "source": [
    "# Plot the training and testing loss history\n",
    "plt.plot(train_loss_history_dnn, label=\"Train Loss\")\n",
    "plt.plot(test_loss_history_dnn, label=\"Test Loss\")\n",
    "plt.legend()\n",
    "plt.xlabel(\"Epoch\")\n",
    "plt.ylabel(\"Loss\")\n",
    "plt.title(\"Loss History for Deep Neural Network\")\n",
    "plt.show()"
   ]
  },
  {
   "cell_type": "markdown",
   "id": "2a760273",
   "metadata": {},
   "source": [
    "Interprete the loss history. Is it good? Why?"
   ]
  },
  {
   "cell_type": "code",
   "execution_count": null,
   "id": "ad56bb5f",
   "metadata": {},
   "outputs": [
    {
     "data": {
      "image/png": "[encoded data removed]",
      "text/plain": [
       "<Figure size 640x480 with 1 Axes>"
      ]
     },
     "metadata": {},
     "output_type": "display_data"
    }
   ],
   "source": [
    "# Plot the data and the deep neural network predictions and receive a result close the plot below\n",
    "model_dnn.eval()\n",
    "with torch.no_grad():\n",
    "    X_full_dnn = np.linspace(0, 10, 100).reshape(-1, 1)\n",
    "    X_full_tensor_dnn = torch.tensor(X_full_dnn, dtype=torch.float32)\n",
    "    y_pred_full_dnn = model_dnn(X_full_tensor_dnn).numpy()\n",
    "\n",
    "plt.scatter(X_nonlinear, y_nonlinear, label=\"Data\", alpha=0.7)\n",
    "plt.plot(X_full_dnn, y_pred_full_dnn, color=\"red\", label=\"DNN Predictions\")\n",
    "plt.legend()\n",
    "plt.xlabel(\"X\")\n",
    "plt.ylabel(\"y\")\n",
    "plt.title(\"Deep Neural Network Regression with PyTorch\")\n",
    "plt.show()"
   ]
  },
  {
   "cell_type": "markdown",
   "id": "59d1efac",
   "metadata": {},
   "source": [
    "# Lab 4: Implementing Convolutional Neural Networks (CNNs) with PyTorch\n",
    "#### (33.33 points)"
   ]
  },
  {
   "cell_type": "markdown",
   "id": "0da01bfc",
   "metadata": {},
   "source": [
    "### Objective\n",
    "#### Implement LeNet for CIFAR-10 with 3 input channels\n",
    "\n",
    "Build a CNN for image classification using PyTorch. \n",
    "\n",
    "### Instructions\n",
    "1. Load the CIFAR-10 dataset using `torchvision.datasets`.\n",
    "2. Implement LeNet - CNN architecture with convolutional layers, pooling layers, and fully connected layers using torch\n",
    "3. Train the CNN on the dataset and evaluate its performance.\n"
   ]
  },
  {
   "cell_type": "code",
   "execution_count": 7,
   "id": "212e970f",
   "metadata": {},
   "outputs": [],
   "source": [
    "# Your implementation goes here\n",
    "import torch\n",
    "import torchvision\n",
    "import torchvision.transforms as transforms\n",
    "\n",
    "# Define transformations for the training and testing sets\n",
    "transform = transforms.Compose([\n",
    "    transforms.ToTensor(),\n",
    "    transforms.Normalize((0.5, 0.5, 0.5), (0.5, 0.5, 0.5))\n",
    "])\n",
    "\n",
    "# Load training and testing datasets\n",
    "trainset = torchvision.datasets.CIFAR10(root='./data', train=True,\n",
    "                                        download=True, transform=transform)\n",
    "trainloader = torch.utils.data.DataLoader(trainset, batch_size=64,\n",
    "                                          shuffle=True, num_workers=2)\n",
    "\n",
    "testset = torchvision.datasets.CIFAR10(root='./data', train=False,\n",
    "                                       download=True, transform=transform)\n",
    "testloader = torch.utils.data.DataLoader(testset, batch_size=64,\n",
    "                                         shuffle=False, num_workers=2)\n",
    "\n",
    "# Define the classes in CIFAR-10\n",
    "classes = ('plane', 'car', 'bird', 'cat',\n",
    "           'deer', 'dog', 'frog', 'horse', 'ship', 'truck')\n"
   ]
  },
  {
   "cell_type": "code",
   "execution_count": null,
   "id": "5ace427e",
   "metadata": {},
   "outputs": [],
   "source": [
    "import torch.nn as nn\n",
    "import torch.nn.functional as F\n",
    "import torch.optim as optim\n"
   ]
  },
  {
   "cell_type": "code",
   "execution_count": null,
   "id": "5af44483",
   "metadata": {},
   "outputs": [],
   "source": [
    "# Implement LeNet for CIFAR-10 with 3 input channels\n",
    "class LeNetCIFAR10(nn.Module):\n",
    "    def __init__(self):\n",
    "        super(LeNetCIFAR10, self).__init__()\n",
    "        ### YOUR CODE HERE ###\n",
    "\n",
    "    def forward(self, x):\n",
    "        # Conv2d->Relu->AvgPool2d ---- (3, 32, 32) → (6, 28, 28) → (6, 14, 14)\n",
    "        # Conv2d->Relu->AvgPool2d ---- (6, 14, 14) → (16, 10, 10) → (16, 5, 5)\n",
    "        # Flatten\n",
    "        # Linear->Relu->Linear->Relu->Linear\n",
    "\n",
    "        ### YOUR CODE HERE ###\n",
    "        return x\n",
    "\n",
    "net = LeNetCIFAR10()\n",
    "\n",
    "criterion = #### YOUR CODE HERE ####                \n",
    "optimizer = optim.Adam(net.parameters(), lr=0.001)  # Adam optimizer\n"
   ]
  },
  {
   "cell_type": "markdown",
   "id": "ee03cd08",
   "metadata": {},
   "source": [
    "Calculate the number of parameters of your network"
   ]
  },
  {
   "cell_type": "code",
   "execution_count": null,
   "id": "e74e8f6f",
   "metadata": {},
   "outputs": [],
   "source": [
    "num_epochs = #### YOUR CODE HERE ####\n",
    "for epoch in range(num_epochs):  # Number of epochs\n",
    "    running_loss = 0.0\n",
    "    for i, data in enumerate(trainloader, 0):\n",
    "        inputs, labels = data\n",
    "\n",
    "        optimizer.zero_grad()               # Zero the parameter gradients\n",
    "        outputs = net(inputs)               # Forward pass\n",
    "        loss = criterion(outputs, labels)   # Compute loss\n",
    "        loss.backward()                     # Backward pass\n",
    "        optimizer.step()                    # Optimize\n",
    "\n",
    "        running_loss += loss.item()\n",
    "        if i % 100 == 99:  # Print every 100 mini-batches\n",
    "            print(f'[Epoch {epoch + 1}, Batch {i + 1}] loss: {running_loss / 100:.3f}')\n",
    "            running_loss = 0.0\n",
    "\n",
    "print('Finished Training')\n"
   ]
  },
  {
   "cell_type": "code",
   "execution_count": 12,
   "id": "27edae5e",
   "metadata": {},
   "outputs": [
    {
     "name": "stdout",
     "output_type": "stream",
     "text": [
      "Accuracy on the 10000 test images: 53.46%\n"
     ]
    }
   ],
   "source": [
    "correct = 0\n",
    "total = 0\n",
    "with torch.no_grad():\n",
    "    for data in testloader:\n",
    "        images, labels = data\n",
    "        outputs = net(images)\n",
    "        _, predicted = torch.max(outputs.data, 1)  # Get predictions\n",
    "        total += labels.size(0)\n",
    "        correct += (predicted == labels).sum().item()\n",
    "\n",
    "print(f'Accuracy on the 10000 test images: {100 * correct / total:.2f}%')\n"
   ]
  },
  {
   "cell_type": "code",
   "execution_count": null,
   "id": "80771882",
   "metadata": {},
   "outputs": [],
   "source": [
    "from sklearn.metrics import classification_report\n",
    "\n",
    "# Assuming 'net' is your trained model\n",
    "net.eval()\n",
    "all_preds = []\n",
    "all_labels = []\n",
    "\n",
    "with torch.no_grad():\n",
    "    for images, labels in testloader:\n",
    "        outputs = net(images)\n",
    "        _, predicted = torch.max(outputs, 1)\n",
    "        all_preds.extend(predicted.cpu().numpy())\n",
    "        all_labels.extend(labels.cpu().numpy())\n",
    "\n",
    "# Generate classification report\n",
    "report = classification_report(all_labels, all_preds, target_names=classes)\n",
    "print(report)\n"
   ]
  },
  {
   "cell_type": "markdown",
   "id": "717b01b9",
   "metadata": {},
   "source": [
    "Interpret your results. Why do you think your solution worked? In case not good, then why your algorithm failed? What can be improved?"
   ]
  },
  {
   "cell_type": "code",
   "execution_count": null,
   "id": "6805fb4d",
   "metadata": {},
   "outputs": [],
   "source": [
    "import matplotlib.pyplot as plt\n",
    "import numpy as np\n",
    "\n",
    "# Function to show images\n",
    "def imshow(img):\n",
    "    img = img / 2 + 0.5     # Unnormalize\n",
    "    npimg = img.numpy()\n",
    "    plt.imshow(np.transpose(npimg, (1, 2, 0)))\n",
    "    plt.show()\n",
    "\n",
    "# Get some random test images\n",
    "dataiter = iter(testloader)\n",
    "images, labels = next(dataiter)\n",
    "\n",
    "# Print images\n",
    "imshow(torchvision.utils.make_grid(images[:4]))\n",
    "print('GroundTruth:', ' '.join(f'{classes[labels[j]]}' for j in range(4)))\n",
    "\n",
    "# Predict\n",
    "outputs = net(images[:4])\n",
    "_, predicted = torch.max(outputs, 1)\n",
    "print('Predicted:', ' '.join(f'{classes[predicted[j]]}' for j in range(4)))\n"
   ]
  },
  {
   "cell_type": "markdown",
   "id": "61096dea",
   "metadata": {},
   "source": [
    "## Lab 5: Optional - Implementing Recurrent Neural Networks (RNNs) with PyTorch (0 bonus points)\n",
    "####"
   ]
  },
  {
   "cell_type": "markdown",
   "id": "7b8e286b",
   "metadata": {},
   "source": [
    "### Objective\n",
    "Build an RNN for time-series or text data analysis.\n",
    "\n",
    "### Instructions\n",
    "1. Choose a time-series dataset (e.g., stock prices) or a text dataset (e.g., sentiment analysis dataset).\n",
    "2. Implement an RNN architecture using LSTM or GRU layers from PyTorch’s `torch.nn` module.\n",
    "3. Train the RNN and evaluate its performance on the dataset.\n",
    "\n",
    "### Deliverables\n",
    "- Submit a notebook file with the RNN implementation and its performance evaluation.\n"
   ]
  },
  {
   "cell_type": "code",
   "execution_count": null,
   "id": "75b1a7c7",
   "metadata": {},
   "outputs": [],
   "source": [
    "# Your implementation goes here\n"
   ]
  }
 ],
 "metadata": {
  "kernelspec": {
   "display_name": "base",
   "language": "python",
   "name": "python3"
  },
  "language_info": {
   "codemirror_mode": {
    "name": "ipython",
    "version": 3
   },
   "file_extension": ".py",
   "mimetype": "text/x-python",
   "name": "python",
   "nbconvert_exporter": "python",
   "pygments_lexer": "ipython3",
   "version": "3.12.7"
  }
 },
 "nbformat": 4,
 "nbformat_minor": 5
}
